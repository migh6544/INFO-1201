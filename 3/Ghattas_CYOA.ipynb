{
 "cells": [
  {
   "cell_type": "markdown",
   "metadata": {},
   "source": [
    "This game will change your mood!"
   ]
  },
  {
   "cell_type": "code",
   "execution_count": 37,
   "metadata": {},
   "outputs": [
    {
     "name": "stdin",
     "output_type": "stream",
     "text": [
      "Please enter your name: m\n",
      "\n",
      "Welcome m!\n",
      "\n",
      "Would you like to play a game? (1 = Yes, 0 = No) 1\n"
     ]
    },
    {
     "name": "stdout",
     "output_type": "stream",
     "text": [
      "\n",
      "Ok! Let's have some fun!\n"
     ]
    },
    {
     "name": "stdin",
     "output_type": "stream",
     "text": [
      "\n",
      "Do you know what type of game you would like to play? (1 = Yes, 0 = No) 0\n",
      "\n",
      "Would you like me to suggest a type of game? (1 = Yes, 0 = No) 1\n",
      "\n",
      "Ok, what kind of games do you like to play? 1\n"
     ]
    },
    {
     "name": "stdout",
     "output_type": "stream",
     "text": [
      "\n",
      "I don't like those type of games. Whatever... Please go away now!\n"
     ]
    }
   ],
   "source": [
    "## Primary layer of engagement, asking the player for initial input\n",
    "Name = input(\"Please enter your name:\")\n",
    "Play = input(\"\\nWelcome \" + Name + \"!\\n\\nWould you like to play a game? (1 = Yes, 0 = No)\")\n",
    "\n",
    "## First layer of navigation after making the first choice, asking player for more detailed input\n",
    "if (Play == str(1)):\n",
    "    print(\"\\nOk! Let's have some fun!\")\n",
    "    Game = input(\"\\nDo you know what type of game you would like to play? (1 = Yes, 0 = No)\")\n",
    "    \n",
    "    ## Second layer of navigation, asking player for even more detailed input \n",
    "    if (Game == str(1)):\n",
    "        Game_Type = input(\"\\nOk, do you know what game would you like to play? (1 = Yes, 0 = No)\")\n",
    "        \n",
    "        ## Third layer of navigation, asking player for even more detailed input \n",
    "        if (Game_Type == str(1)):\n",
    "            Game_Play = input(\"\\nOk, what game would you like to play?\")\n",
    "            print(\"\\nSorry, I am not familiar with that game! better luck net time ;)\")\n",
    "        \n",
    "        elif (Game_Type == str(0)):\n",
    "            Game_Play = input(\"\\nSo why are you here?\")\n",
    "            print(\"\\nYou are the weakest link! Goodbye :)\")\n",
    "            \n",
    "    elif (Game == str(0)):\n",
    "        Game_Suggest = input(\"\\nWould you like me to suggest a type of game? (1 = Yes, 0 = No)\")\n",
    "        \n",
    "        ## Third layer of navigation, asking player for even more detailed input \n",
    "        if (Game_Suggest == str(1)):\n",
    "            Game_Play = input(\"\\nOk, what kind of games do you like to play?\")\n",
    "            print(\"\\nI don't like those type of games. Whatever... Please go away now!\")\n",
    "        \n",
    "        elif (Game_Suggest == str(0)):\n",
    "            Game_Play = input(\"\\nDo you even want to play?\") \n",
    "            print(\"\\nWell, I dont! Take care.\")\n",
    "\n",
    "elif (Play == str(0)):\n",
    "    Joke = input(\"\\nWould you rather hear a joke? (1 = Yes, 0 = No)\")\n",
    "    \n",
    "    ## Second layer of navigation, asking player for even more detailed input \n",
    "    if (Joke == str(1)):\n",
    "        Joke_Funny = input(\"\\nDo you like funny jokes? (1 = Yes, 0 = No)\")\n",
    "        \n",
    "        ## Third layer of navigation, asking player for even more detailed input \n",
    "        if (Joke_Funny == str(1)):\n",
    "            Joke_Type = input(\"\\nOk, do you like adult jokes?\")\n",
    "            print(\"\\nActually, it's not that funny when when I think about it... Nevermind! Byeee :) \")\n",
    "        \n",
    "        elif (Joke_Funny == str(0)):\n",
    "            Joke_Type = input(\"\\nSo why are you here?\")\n",
    "            print(\"\\nGo away! Give a fish CPR or something....\")\n",
    "        \n",
    "    elif (Joke == str(0)):\n",
    "        Joke_End = input(\"\\nWould you like to exit the game? (1 = Yes, 0 = No)\")\n",
    "        \n",
    "        ## Third layer of navigation, asking player for even more detailed input \n",
    "        if (Joke_End == str(1)):\n",
    "            Joke_Exit = input(\"\\nOk, Whould you like to exit the game?\")\n",
    "            print(\"\\nIn anycase, I wnat you to exit the game and think about what you just did... Unbelievable!\")\n",
    "        \n",
    "        elif (Joke_End == str(0)):\n",
    "            Joke_Exit = input(\"\\nIs your brain functioning OK?\")\n",
    "            print(\"I honestly do not think it is... I mean lookmat what you just spent the last few minutes doing!\")\n",
    "\n",
    "else:\n",
    "    print(\"\\nWe can't play a game if answering a simple question is a challange for you!\\nStart over and try harder this time...\")"
   ]
  }
 ],
 "metadata": {
  "kernelspec": {
   "display_name": "Python 3",
   "language": "python",
   "name": "python3"
  },
  "language_info": {
   "codemirror_mode": {
    "name": "ipython",
    "version": 3
   },
   "file_extension": ".py",
   "mimetype": "text/x-python",
   "name": "python",
   "nbconvert_exporter": "python",
   "pygments_lexer": "ipython3",
   "version": "3.8.6"
  }
 },
 "nbformat": 4,
 "nbformat_minor": 4
}
