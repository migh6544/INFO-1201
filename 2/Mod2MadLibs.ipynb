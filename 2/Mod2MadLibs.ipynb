{
 "cells": [
  {
   "cell_type": "markdown",
   "metadata": {},
   "source": [
    "INFO - 1201 (Mad Libs project) / by Michael Ghattas"
   ]
  },
  {
   "cell_type": "code",
   "execution_count": 3,
   "metadata": {},
   "outputs": [
    {
     "name": "stdout",
     "output_type": "stream",
     "text": [
      "Mad Libs is a word game which prompts players for a list of words to substitute for blanks in a story.\n",
      "Here is the original Haiku by Anonymous as an example:\n",
      " \n",
      "    I love you like mountain snow so fresh, \n",
      "     so fallen \n",
      "      but the path waits for breaking...\n",
      "\n",
      "Here is the same Haiku by Anonymous with specific 6 words replaced by blanks to be filled in by your choice of wrods.\n",
      " \n",
      "    I ____ you like ________ snow so ____, \n",
      "     so ______ \n",
      "      but the ____ waits for ________...\n",
      "\n",
      "Note that you will need to choose 2 nouns, 2 adjectives and 2 verbs.\n",
      "Lets start the game!\n"
     ]
    }
   ],
   "source": [
    "### First we display the rules of the game with the original poem\n",
    "print(\"Mad Libs is a word game which prompts players for a list of words to substitute for blanks in a story.\")\n",
    "print(\"Here is the original Haiku by Anonymous as an example:\")\n",
    "print(\" \\n    I love you like mountain snow so fresh, \\n     so fallen \\n      but the path waits for breaking...\")\n",
    "print(\"\\nHere is the same Haiku by Anonymous with specific 6 words replaced by blanks to be filled in by your choice of wrods.\")\n",
    "print(\" \\n    I ____ you like ________ snow so ____, \\n     so ______ \\n      but the ____ waits for ________...\")\n",
    "print(\"\\nNote that you will need to choose 2 nouns, 2 adjectives and 2 verbs.\\nLets start the game!\")"
   ]
  },
  {
   "cell_type": "code",
   "execution_count": 4,
   "metadata": {},
   "outputs": [
    {
     "name": "stdin",
     "output_type": "stream",
     "text": [
      "What's your first verb:   move\n"
     ]
    }
   ],
   "source": [
    "### Prompting user for input\n",
    "word1 = input(\"What's your first verb:  \")"
   ]
  },
  {
   "cell_type": "code",
   "execution_count": 5,
   "metadata": {},
   "outputs": [
    {
     "name": "stdin",
     "output_type": "stream",
     "text": [
      "What's your first noun:   fast\n"
     ]
    }
   ],
   "source": [
    "### Prompting user for input\n",
    "word2 = input(\"What's your first noun:  \")"
   ]
  },
  {
   "cell_type": "code",
   "execution_count": 6,
   "metadata": {},
   "outputs": [
    {
     "name": "stdin",
     "output_type": "stream",
     "text": [
      "What's your first adjective:   clear\n"
     ]
    }
   ],
   "source": [
    "### Prompting user for input\n",
    "word3 = input(\"What's your first adjective:  \")"
   ]
  },
  {
   "cell_type": "code",
   "execution_count": 7,
   "metadata": {},
   "outputs": [
    {
     "name": "stdin",
     "output_type": "stream",
     "text": [
      "What's your second adjective:   pure\n"
     ]
    }
   ],
   "source": [
    "### Prompting user for input\n",
    "word4 = input(\"What's your second adjective:  \")"
   ]
  },
  {
   "cell_type": "code",
   "execution_count": 8,
   "metadata": {},
   "outputs": [
    {
     "name": "stdin",
     "output_type": "stream",
     "text": [
      "What's your second noun:   sky\n"
     ]
    }
   ],
   "source": [
    "### Prompting user for input\n",
    "word5 = input(\"What's your second noun:  \")"
   ]
  },
  {
   "cell_type": "code",
   "execution_count": 9,
   "metadata": {},
   "outputs": [
    {
     "name": "stdin",
     "output_type": "stream",
     "text": [
      "What's your second verb:   light\n"
     ]
    }
   ],
   "source": [
    "### Prompting user for input\n",
    "word6 = input(\"What's your second verb:  \")"
   ]
  },
  {
   "cell_type": "code",
   "execution_count": 10,
   "metadata": {},
   "outputs": [],
   "source": [
    "### Collect the original poem and the new words into one poem\n",
    "result = \"I \" + word1 + \" you like \" + word2 + \" snow so \" + word3 + \", \\n     so \" + word4 + \" \\n      but the \" + word5 + \" waits for \" + word6 + \"...\""
   ]
  },
  {
   "cell_type": "code",
   "execution_count": 11,
   "metadata": {},
   "outputs": [
    {
     "name": "stdout",
     "output_type": "stream",
     "text": [
      "I move you like fast snow so clear, \n",
      "     so pure \n",
      "      but the sky waits for light...\n",
      "\n",
      "Well played, you just sawpped 6 words!\n"
     ]
    }
   ],
   "source": [
    "### Printing the results and a end-of-game message with how many words were swapped\n",
    "print(result)\n",
    "num = 6\n",
    "print(\"\\nWell played, you just sawpped \" + str(num) + \" words!\")"
   ]
  },
  {
   "cell_type": "code",
   "execution_count": null,
   "metadata": {},
   "outputs": [],
   "source": []
  }
 ],
 "metadata": {
  "kernelspec": {
   "display_name": "Python 3",
   "language": "python",
   "name": "python3"
  },
  "language_info": {
   "codemirror_mode": {
    "name": "ipython",
    "version": 3
   },
   "file_extension": ".py",
   "mimetype": "text/x-python",
   "name": "python",
   "nbconvert_exporter": "python",
   "pygments_lexer": "ipython3",
   "version": "3.8.6"
  }
 },
 "nbformat": 4,
 "nbformat_minor": 4
}
