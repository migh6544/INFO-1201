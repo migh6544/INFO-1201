{
 "cells": [
  {
   "cell_type": "code",
   "execution_count": 1,
   "metadata": {},
   "outputs": [],
   "source": [
    "#import the libraries we want to use\n",
    "import pandas as pd\n",
    "import numpy as np"
   ]
  },
  {
   "cell_type": "code",
   "execution_count": 3,
   "metadata": {},
   "outputs": [],
   "source": [
    "#load up our csv file into python\n",
    "#make sure that this notebook & the corresponding csv file are in the same folder. \n",
    "superheroes = pd.read_csv(\"superhero_data.csv\", parse_dates = [\"FIRST_YEAR\"])"
   ]
  },
  {
   "cell_type": "markdown",
   "metadata": {},
   "source": [
    "### Introducing Data Frames\n",
    "##### DataFrames build a functional table from the csv (using lists). We use dataframes to perform operations\n",
    "##### Once you build a dataframe, we can run other functions to perform analyses & operations\n",
    "##### DataFrames can be used for analysis, but Crosstab cannot. Crosstab produce tables for us to view"
   ]
  },
  {
   "cell_type": "code",
   "execution_count": 30,
   "metadata": {
    "collapsed": true,
    "jupyter": {
     "outputs_hidden": true
    }
   },
   "outputs": [
    {
     "name": "stdout",
     "output_type": "stream",
     "text": [
      "      UNIVERSE page_id                                   name  \\\n",
      "0           DC    1702             Richard Occult (New Earth)   \n",
      "1           DC  158200           Arthur Pendragon (New Earth)   \n",
      "2           DC  289378                   Bedivere (New Earth)   \n",
      "3           DC   11333  Franklin Delano Roosevelt (New Earth)   \n",
      "4           DC  342641                     Gareth (New Earth)   \n",
      "...        ...     ...                                    ...   \n",
      "23415   MARVEL      ND                  Zola Hulk (Earth-616)   \n",
      "23416   MARVEL      ND              Zola Iron Man (Earth-616)   \n",
      "23417   MARVEL      ND                  Zola Thor (Earth-616)   \n",
      "23418   MARVEL      ND                    Zoltaro (Earth-616)   \n",
      "23419   MARVEL      ND                Zora Loftus (Earth-616)   \n",
      "\n",
      "                                     urlslug               ID  \\\n",
      "0                 Richard_Occult_(New_Earth)  Secret Identity   \n",
      "1               Arthur_Pendragon_(New_Earth)  Public Identity   \n",
      "2                       Bedivere_(New_Earth)               ND   \n",
      "3      Franklin_Delano_Roosevelt_(New_Earth)  Public Identity   \n",
      "4                         Gareth_(New_Earth)               ND   \n",
      "...                                      ...              ...   \n",
      "23415                  Zola_Hulk_(Earth-616)  Secret Identity   \n",
      "23416              Zola_Iron_Man_(Earth-616)  Secret Identity   \n",
      "23417                  Zola_Thor_(Earth-616)  Secret Identity   \n",
      "23418                    Zoltaro_(Earth-616)               ND   \n",
      "23419                Zora_Loftus_(Earth-616)  Secret Identity   \n",
      "\n",
      "                 ALIGN IS_AVENGER AVENGER_STATUS AVENGER_YEAR        EYES  \\\n",
      "0                   ND         NO             ND           ND   Grey Eyes   \n",
      "1      Good Characters         NO             ND           ND  Brown Eyes   \n",
      "2                   ND         NO             ND           ND          ND   \n",
      "3      Good Characters         NO             ND           ND          ND   \n",
      "4                   ND         NO             ND           ND          ND   \n",
      "...                ...        ...            ...          ...         ...   \n",
      "23415   Bad Characters         NO             ND           ND    Red Eyes   \n",
      "23416   Bad Characters         NO             ND           ND  Black Eyes   \n",
      "23417   Bad Characters         NO             ND           ND   Blue Eyes   \n",
      "23418   Bad Characters         NO             ND           ND          ND   \n",
      "23419   Bad Characters         NO             ND           ND          ND   \n",
      "\n",
      "             HAIR                SEX                SEXUALITY  \\\n",
      "0      Black Hair    Male Characters  Heterosexual Characters   \n",
      "1      Brown Hair    Male Characters  Heterosexual Characters   \n",
      "2              ND    Male Characters  Heterosexual Characters   \n",
      "3       Grey Hair    Male Characters  Heterosexual Characters   \n",
      "4              ND    Male Characters  Heterosexual Characters   \n",
      "...           ...                ...                      ...   \n",
      "23415        Bald    Male Characters  Heterosexual Characters   \n",
      "23416     No Hair    Male Characters  Heterosexual Characters   \n",
      "23417  Blond Hair    Male Characters  Heterosexual Characters   \n",
      "23418  Black Hair    Male Characters  Heterosexual Characters   \n",
      "23419  Blond Hair  Female Characters  Heterosexual Characters   \n",
      "\n",
      "                     ALIVE APPEARANCES FIRST_MONTH FIRST_YEAR DECEASED  \\\n",
      "0        Living Characters         125    October        1935       ND   \n",
      "1        Living Characters          41   February        1936       ND   \n",
      "2        Living Characters          ND   February        1936       ND   \n",
      "3        Living Characters          52      March        1936       ND   \n",
      "4        Living Characters           1   February        1936       ND   \n",
      "...                    ...         ...         ...        ...      ...   \n",
      "23415    Living Characters           1          ND         ND       ND   \n",
      "23416    Living Characters           1          ND         ND       ND   \n",
      "23417    Living Characters           1          ND         ND       ND   \n",
      "23418  Deceased Characters           2          ND         ND       ND   \n",
      "23419    Living Characters          ND          ND         ND       ND   \n",
      "\n",
      "      RESURRECTED  \n",
      "0              ND  \n",
      "1              ND  \n",
      "2              ND  \n",
      "3              ND  \n",
      "4              ND  \n",
      "...           ...  \n",
      "23415          ND  \n",
      "23416          ND  \n",
      "23417          ND  \n",
      "23418          ND  \n",
      "23419          ND  \n",
      "\n",
      "[23420 rows x 19 columns]\n"
     ]
    }
   ],
   "source": [
    "#introduce the dataframe. From Pandas (pd) library, use DataFrame function and specify the data is coming from 'superheroes'\n",
    "df = pd.DataFrame(data = superheroes)\n",
    "\n",
    "# you don't need to print it, but just so you know it's there:\n",
    "print(df)"
   ]
  },
  {
   "cell_type": "markdown",
   "metadata": {},
   "source": [
    "## Practicing Lists with our Marvel/DC Data File\n",
    "### Goal: Create a list with every Female Character that appears more than 100 times\n",
    "#### Conceptually, this means that we want to read through all of the lines of the code, and \n",
    "#### IF we come across a female character with over 100 appearances, THEN we want to add it to the list\n",
    "remember that all code that appears in red in quotes below has come verbatim from our csv file. "
   ]
  },
  {
   "cell_type": "code",
   "execution_count": 34,
   "metadata": {},
   "outputs": [],
   "source": [
    "#list names of every female character that appears more than 100 times\n",
    "\n",
    "#initializing a blank list. we need to introduce the name variable and specify the datatype for Python to know what we're talking about later on in the file. \n",
    "list_name = []\n",
    "\n",
    "# .shape[0] gives the number of rows, .shape[1] gives the number of columns\n",
    "num_rows = df.shape[0]\n",
    "\n",
    "#printing is a good way to check our work\n",
    "#to print out row 0 of Appearances column\n",
    "#print(df[\"APPEARANCES\"] [0])\n",
    "\n",
    "\n",
    "#use a for loop to go through all of the rows\n",
    "#for each row in the total rows of the dataframe for our file\n",
    "for row in range(num_rows):\n",
    "    \n",
    "    #use 'continue' to skip any instance with no data (ND) about the number of appearances\n",
    "    if(df[\"APPEARANCES\"][row]==\"ND\"):\n",
    "        continue\n",
    "        \n",
    "    #this is the main line of code that does what we want.    \n",
    "    elif(df[\"SEX\"][row] == \"Female Characters\" and int(df[\"APPEARANCES\"][row])) > 100:\n",
    "        \n",
    "        #use the .append() function to add the name from the row onto the list we initiated earlier\n",
    "        list_name.append(df[\"name\"][row])\n",
    "\n",
    "#uncomment the print statement below to check your code\n",
    "#print(list_name)"
   ]
  },
  {
   "cell_type": "code",
   "execution_count": 35,
   "metadata": {},
   "outputs": [],
   "source": [
    "## Tomorrow in class we will build a dictionary to take the universe that the character is from (key), and the number of appearances\n",
    "dictionary_name = {}\n",
    "#for item in list_name:"
   ]
  },
  {
   "cell_type": "code",
   "execution_count": null,
   "metadata": {},
   "outputs": [],
   "source": []
  }
 ],
 "metadata": {
  "kernelspec": {
   "display_name": "Python 3",
   "language": "python",
   "name": "python3"
  },
  "language_info": {
   "codemirror_mode": {
    "name": "ipython",
    "version": 3
   },
   "file_extension": ".py",
   "mimetype": "text/x-python",
   "name": "python",
   "nbconvert_exporter": "python",
   "pygments_lexer": "ipython3",
   "version": "3.8.3"
  }
 },
 "nbformat": 4,
 "nbformat_minor": 4
}
