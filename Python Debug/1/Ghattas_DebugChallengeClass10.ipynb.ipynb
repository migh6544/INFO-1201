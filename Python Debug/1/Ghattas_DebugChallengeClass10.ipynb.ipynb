{
 "cells": [
  {
   "cell_type": "markdown",
   "metadata": {},
   "source": [
    "## Debug Challenge 062221"
   ]
  },
  {
   "cell_type": "markdown",
   "metadata": {},
   "source": [
    "### Challenge 1: Run all of the code between lines 1-3 to reveal the error messages. Don't enter any info yet. Can you spot the bugs?"
   ]
  },
  {
   "cell_type": "code",
   "execution_count": 2,
   "metadata": {},
   "outputs": [
    {
     "name": "stdin",
     "output_type": "stream",
     "text": [
      "Hey! What's your name?  Michael\n"
     ]
    }
   ],
   "source": [
    "name = input(\"Hey! What's your name? \")"
   ]
  },
  {
   "cell_type": "code",
   "execution_count": 4,
   "metadata": {},
   "outputs": [
    {
     "name": "stdout",
     "output_type": "stream",
     "text": [
      "Hello!  Michael. How are you?\n"
     ]
    }
   ],
   "source": [
    "print(\"Hello!  \" + name + \".\" + \" How are you?\")"
   ]
  },
  {
   "cell_type": "markdown",
   "metadata": {},
   "source": [
    "### Challenge 2: Run all of the code below to reveal the error messages. Don't enter any info yet. Can you spot the bugs?"
   ]
  },
  {
   "cell_type": "code",
   "execution_count": 8,
   "metadata": {},
   "outputs": [
    {
     "name": "stdout",
     "output_type": "stream",
     "text": [
      "You wake up on an empty beach by yourself. You look around and and see an overturned boat. \n",
      "What do you want to do?\n",
      "Walk over to the boat?\n",
      "Shout for help?\n"
     ]
    }
   ],
   "source": [
    "print(\"You wake up on an empty beach by yourself. You look around and and see an overturned boat. \\nWhat do you want to do?\") \n",
    "print(\"Walk over to the boat?\")\n",
    "print(\"Shout for help?\")"
   ]
  },
  {
   "cell_type": "code",
   "execution_count": 10,
   "metadata": {},
   "outputs": [
    {
     "name": "stdin",
     "output_type": "stream",
     "text": [
      "What do you want to do? Enter walk or shout:  walk\n"
     ]
    }
   ],
   "source": [
    "choice = input(\"What do you want to do? Enter walk or shout: \")"
   ]
  },
  {
   "cell_type": "code",
   "execution_count": 13,
   "metadata": {},
   "outputs": [
    {
     "name": "stdout",
     "output_type": "stream",
     "text": [
      "You walk over to the boat and see that it’s empty. \n",
      "You hear some singing further down the beach. \n",
      "Do you stay by the boat or walk toward the singing?\n",
      "(3) Stay by the boat?\n",
      "(4) Walk toward the singing?\n"
     ]
    }
   ],
   "source": [
    "if choice == \"walk\":\n",
    "    # continue story by walking over to the boat\n",
    "    print(\"You walk over to the boat and see that it’s empty. \\nYou hear some singing further down the beach. \\nDo you stay by the boat or walk toward the singing?\")  \n",
    "    \n",
    "    print(\"(3) Stay by the boat?\")\n",
    "    print(\"(4) Walk toward the singing?\")\n",
    "    \n",
    "elif choice == \"shout\":\n",
    "    # continue story by shouting for help\n",
    "    print(\"You shout for help and a small crowd gathers. Do you tell them about the empty boat or sail away on it? \")\n",
    "    print(\"(5) Tell the crowd about the boat?\")\n",
    "    print(\"(6) Sail away?\")"
   ]
  },
  {
   "cell_type": "code",
   "execution_count": 14,
   "metadata": {},
   "outputs": [
    {
     "name": "stdout",
     "output_type": "stream",
     "text": [
      "Insert a line below to shout out to any other students you worked with to fix the bugs. \n",
      "If you worked alone, note that too.\n"
     ]
    }
   ],
   "source": [
    "print(\"Insert a line below to shout out to any other students you worked with to fix the bugs. \\nIf you worked alone, note that too.\") "
   ]
  },
  {
   "cell_type": "code",
   "execution_count": 15,
   "metadata": {},
   "outputs": [],
   "source": [
    "# You're done! "
   ]
  },
  {
   "cell_type": "code",
   "execution_count": null,
   "metadata": {},
   "outputs": [],
   "source": []
  }
 ],
 "metadata": {
  "anaconda-cloud": {},
  "kernelspec": {
   "display_name": "Python 3",
   "language": "python",
   "name": "python3"
  },
  "language_info": {
   "codemirror_mode": {
    "name": "ipython",
    "version": 3
   },
   "file_extension": ".py",
   "mimetype": "text/x-python",
   "name": "python",
   "nbconvert_exporter": "python",
   "pygments_lexer": "ipython3",
   "version": "3.8.6"
  }
 },
 "nbformat": 4,
 "nbformat_minor": 4
}
