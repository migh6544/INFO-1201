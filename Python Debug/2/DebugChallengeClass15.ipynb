{
 "cells": [
  {
   "cell_type": "markdown",
   "metadata": {},
   "source": [
    "# Debug Challenge 07.01.21"
   ]
  },
  {
   "cell_type": "markdown",
   "metadata": {},
   "source": [
    "### Run the cell below to import the libraries for the debug challenge\n",
    "Google Form Link: https://forms.gle/PqZqDLEh8h5ADQDK8\n",
    "<< EVEN IF YOU UPLOAD A FILE, PLEASE COMPLETE THE GOOGLE FORM, Please & Thanks!! \n",
    "\n",
    "![rootingforyou.gif](https://media3.giphy.com/media/26gskaXMHwQFmuXAc/giphy.gif)"
   ]
  },
  {
   "cell_type": "code",
   "execution_count": null,
   "metadata": {},
   "outputs": [],
   "source": [
    "import pandas as pd\n",
    "import numpy as np"
   ]
  },
  {
   "cell_type": "markdown",
   "metadata": {},
   "source": [
    "### Import and read in the superheroData.csv file into this file. \n",
    "\n",
    "#### Step 1: Rename and save the file as LASTNAME_DebugChallengeClass15.ipynb\n",
    "#### Step 2: Store this .ipynb file in the same folder as the superhero_data.csv file so Pandas can read the spreadsheet. \n",
    "#### Step 3: In the blank line below, type in this command to rename and then read the spreadsheet into Jupyter: \n",
    "\n",
    "#### superheroes = pd.read_csv(\"superhero_data.csv\", parse_dates = [\"FIRST_YEAR\"])"
   ]
  },
  {
   "cell_type": "code",
   "execution_count": null,
   "metadata": {},
   "outputs": [],
   "source": []
  },
  {
   "cell_type": "markdown",
   "metadata": {},
   "source": [
    "#### Ensure that the csv file imported properly by running the code below. "
   ]
  },
  {
   "cell_type": "code",
   "execution_count": null,
   "metadata": {},
   "outputs": [],
   "source": [
    "superheroes.head()"
   ]
  },
  {
   "cell_type": "markdown",
   "metadata": {},
   "source": [
    "### Challenge 1: Run the code in this section below to reveal the error messages. Can you spot the bugs? Use the Google form to note each of the problems you encountered and your potential solutions. \n",
    "### Fix the code for extra credit!"
   ]
  },
  {
   "cell_type": "code",
   "execution_count": null,
   "metadata": {},
   "outputs": [],
   "source": [
    "# print the total number of characters in the data\n",
    "print(\"\\nTotal number of characters:\" + str(len(heroes))"
   ]
  },
  {
   "cell_type": "markdown",
   "metadata": {},
   "source": [
    "### Challenge 2: Run the code in the section below to reveal the error messages. Can you spot the bugs? Use the Google form to note each of the problems you encountered and your potential solutions.\n",
    "\n",
    "### Fix the code for extra credit!¶"
   ]
  },
  {
   "cell_type": "code",
   "execution_count": null,
   "metadata": {},
   "outputs": [],
   "source": [
    "# print the 20 newest heroes by name\n",
    "superheroes.sort_values(by=\"years\", ascending=True, inplace=True)\n",
    "\n",
    "newest_heroes = superheroes[\"Name\"] + \" \" + superheroes[\"FIRST_YEAR\"]\n",
    "\n",
    "print(newest_heroes[0:0])"
   ]
  },
  {
   "cell_type": "markdown",
   "metadata": {},
   "source": [
    "### Challenge 3: Run the code in the section below to reveal the crosstab results. \n",
    "\n",
    "### What is the issue with the labeled crosstab results? (Hint, check the original labels by commenting out lines of code)\n",
    "\n",
    "### Fix the code for extra credit!"
   ]
  },
  {
   "cell_type": "code",
   "execution_count": null,
   "metadata": {},
   "outputs": [],
   "source": [
    "creepy_villain = pd.crosstab(index = superheroes[\"EYES\"] == \"Yellow Eyes\", columns = superheroes[\"HAIR\"] == \"Red Hair\")\n",
    "\n",
    "creepy_villain.columns = [\"Has red hair\", \"Does not have red hair\"]\n",
    "creepy_villain.index = [\"Does not have yellow eyes\", \"Has yellow eyes\"]\n",
    "creepy_villain"
   ]
  },
  {
   "cell_type": "markdown",
   "metadata": {},
   "source": [
    "### Challenge 4: Run the code in the section below to reveal the crosstab results. \n",
    "\n",
    "### The issue isn't about a bug but the reliability of the results The crosstab computation returns a lot of 0 and ND (no data) values both for hair color and for how the characters' align (good, bad, neutral or reformed criminal). Use the Google form to explain why this could be a problem in your data analysis and how you could overcome it in the code.\n",
    "\n",
    "### Fix the code for extra credit!"
   ]
  },
  {
   "cell_type": "code",
   "execution_count": null,
   "metadata": {},
   "outputs": [],
   "source": [
    "bad_hair = pd.crosstab(superheroes[\"HAIR\"], superheroes[\"ALIGN\"])\n",
    "\n",
    "\n",
    "print(bad_hair)"
   ]
  },
  {
   "cell_type": "markdown",
   "metadata": {},
   "source": [
    "### You're done! Please submit the Debug Challenge Google form before the end of class today."
   ]
  }
 ],
 "metadata": {
  "anaconda-cloud": {},
  "kernelspec": {
   "display_name": "Python 3",
   "language": "python",
   "name": "python3"
  },
  "language_info": {
   "codemirror_mode": {
    "name": "ipython",
    "version": 3
   },
   "file_extension": ".py",
   "mimetype": "text/x-python",
   "name": "python",
   "nbconvert_exporter": "python",
   "pygments_lexer": "ipython3",
   "version": "3.8.3"
  }
 },
 "nbformat": 4,
 "nbformat_minor": 4
}
