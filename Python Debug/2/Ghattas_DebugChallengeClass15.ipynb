{
 "cells": [
  {
   "cell_type": "markdown",
   "metadata": {},
   "source": [
    "# Debug Challenge 07.01.21"
   ]
  },
  {
   "cell_type": "markdown",
   "metadata": {},
   "source": [
    "### Run the cell below to import the libraries for the debug challenge\n",
    "Google Form Link: https://forms.gle/PqZqDLEh8h5ADQDK8\n",
    "<< EVEN IF YOU UPLOAD A FILE, PLEASE COMPLETE THE GOOGLE FORM, Please & Thanks!! \n",
    "\n",
    "![rootingforyou.gif](https://media3.giphy.com/media/26gskaXMHwQFmuXAc/giphy.gif)"
   ]
  },
  {
   "cell_type": "code",
   "execution_count": 1,
   "metadata": {},
   "outputs": [],
   "source": [
    "import pandas as pd\n",
    "import numpy as np"
   ]
  },
  {
   "cell_type": "code",
   "execution_count": 4,
   "metadata": {},
   "outputs": [],
   "source": [
    "### Import and read in the superheroData.csv file into this file. \n",
    "\n",
    "#### Step 1: Rename and save the file as LASTNAME_DebugChallengeClass15.ipynb\n",
    "#### Step 2: Store this .ipynb file in the same folder as the superhero_data.csv file so Pandas can read the spreadsheet. \n",
    "#### Step 3: In the blank line below, type in this command to rename and then read the spreadsheet into Jupyter: \n",
    "superheroes = pd.read_csv(\"superheroData.csv\", parse_dates = [\"FIRST_YEAR\"])"
   ]
  },
  {
   "cell_type": "markdown",
   "metadata": {},
   "source": [
    "#### Ensure that the csv file imported properly by running the code below. "
   ]
  },
  {
   "cell_type": "code",
   "execution_count": 5,
   "metadata": {},
   "outputs": [
    {
     "data": {
      "text/html": [
       "<div>\n",
       "<style scoped>\n",
       "    .dataframe tbody tr th:only-of-type {\n",
       "        vertical-align: middle;\n",
       "    }\n",
       "\n",
       "    .dataframe tbody tr th {\n",
       "        vertical-align: top;\n",
       "    }\n",
       "\n",
       "    .dataframe thead th {\n",
       "        text-align: right;\n",
       "    }\n",
       "</style>\n",
       "<table border=\"1\" class=\"dataframe\">\n",
       "  <thead>\n",
       "    <tr style=\"text-align: right;\">\n",
       "      <th></th>\n",
       "      <th>UNIVERSE</th>\n",
       "      <th>page_id</th>\n",
       "      <th>name</th>\n",
       "      <th>urlslug</th>\n",
       "      <th>ID</th>\n",
       "      <th>ALIGN</th>\n",
       "      <th>IS_AVENGER</th>\n",
       "      <th>AVENGER_STATUS</th>\n",
       "      <th>AVENGER_YEAR</th>\n",
       "      <th>EYES</th>\n",
       "      <th>...</th>\n",
       "      <th>SEX</th>\n",
       "      <th>SEXUALITY</th>\n",
       "      <th>ALIVE</th>\n",
       "      <th>APPEARANCES</th>\n",
       "      <th>FIRST_MONTH</th>\n",
       "      <th>FIRST_YEAR</th>\n",
       "      <th>DECEASED</th>\n",
       "      <th>RESURRECTED</th>\n",
       "      <th>Unnamed: 19</th>\n",
       "      <th>Unnamed: 20</th>\n",
       "    </tr>\n",
       "  </thead>\n",
       "  <tbody>\n",
       "    <tr>\n",
       "      <th>0</th>\n",
       "      <td>DC</td>\n",
       "      <td>1702</td>\n",
       "      <td>Richard Occult (New Earth)</td>\n",
       "      <td>Richard_Occult_(New_Earth)</td>\n",
       "      <td>Secret Identity</td>\n",
       "      <td>ND</td>\n",
       "      <td>NO</td>\n",
       "      <td>ND</td>\n",
       "      <td>ND</td>\n",
       "      <td>Grey Eyes</td>\n",
       "      <td>...</td>\n",
       "      <td>Male Characters</td>\n",
       "      <td>Heterosexual Characters</td>\n",
       "      <td>Living Characters</td>\n",
       "      <td>125</td>\n",
       "      <td>October</td>\n",
       "      <td>1935</td>\n",
       "      <td>ND</td>\n",
       "      <td>ND</td>\n",
       "      <td>NaN</td>\n",
       "      <td>NaN</td>\n",
       "    </tr>\n",
       "    <tr>\n",
       "      <th>1</th>\n",
       "      <td>DC</td>\n",
       "      <td>158200</td>\n",
       "      <td>Arthur Pendragon (New Earth)</td>\n",
       "      <td>Arthur_Pendragon_(New_Earth)</td>\n",
       "      <td>Public Identity</td>\n",
       "      <td>Good Characters</td>\n",
       "      <td>NO</td>\n",
       "      <td>ND</td>\n",
       "      <td>ND</td>\n",
       "      <td>Brown Eyes</td>\n",
       "      <td>...</td>\n",
       "      <td>Male Characters</td>\n",
       "      <td>Heterosexual Characters</td>\n",
       "      <td>Living Characters</td>\n",
       "      <td>41</td>\n",
       "      <td>February</td>\n",
       "      <td>1936</td>\n",
       "      <td>ND</td>\n",
       "      <td>ND</td>\n",
       "      <td>NaN</td>\n",
       "      <td>NaN</td>\n",
       "    </tr>\n",
       "    <tr>\n",
       "      <th>2</th>\n",
       "      <td>DC</td>\n",
       "      <td>289378</td>\n",
       "      <td>Bedivere (New Earth)</td>\n",
       "      <td>Bedivere_(New_Earth)</td>\n",
       "      <td>ND</td>\n",
       "      <td>ND</td>\n",
       "      <td>NO</td>\n",
       "      <td>ND</td>\n",
       "      <td>ND</td>\n",
       "      <td>ND</td>\n",
       "      <td>...</td>\n",
       "      <td>Male Characters</td>\n",
       "      <td>Heterosexual Characters</td>\n",
       "      <td>Living Characters</td>\n",
       "      <td>ND</td>\n",
       "      <td>February</td>\n",
       "      <td>1936</td>\n",
       "      <td>ND</td>\n",
       "      <td>ND</td>\n",
       "      <td>NaN</td>\n",
       "      <td>NaN</td>\n",
       "    </tr>\n",
       "    <tr>\n",
       "      <th>3</th>\n",
       "      <td>DC</td>\n",
       "      <td>11333</td>\n",
       "      <td>Franklin Delano Roosevelt (New Earth)</td>\n",
       "      <td>Franklin_Delano_Roosevelt_(New_Earth)</td>\n",
       "      <td>Public Identity</td>\n",
       "      <td>Good Characters</td>\n",
       "      <td>NO</td>\n",
       "      <td>ND</td>\n",
       "      <td>ND</td>\n",
       "      <td>ND</td>\n",
       "      <td>...</td>\n",
       "      <td>Male Characters</td>\n",
       "      <td>Heterosexual Characters</td>\n",
       "      <td>Living Characters</td>\n",
       "      <td>52</td>\n",
       "      <td>March</td>\n",
       "      <td>1936</td>\n",
       "      <td>ND</td>\n",
       "      <td>ND</td>\n",
       "      <td>NaN</td>\n",
       "      <td>NaN</td>\n",
       "    </tr>\n",
       "    <tr>\n",
       "      <th>4</th>\n",
       "      <td>DC</td>\n",
       "      <td>342641</td>\n",
       "      <td>Gareth (New Earth)</td>\n",
       "      <td>Gareth_(New_Earth)</td>\n",
       "      <td>ND</td>\n",
       "      <td>ND</td>\n",
       "      <td>NO</td>\n",
       "      <td>ND</td>\n",
       "      <td>ND</td>\n",
       "      <td>ND</td>\n",
       "      <td>...</td>\n",
       "      <td>Male Characters</td>\n",
       "      <td>Heterosexual Characters</td>\n",
       "      <td>Living Characters</td>\n",
       "      <td>1</td>\n",
       "      <td>February</td>\n",
       "      <td>1936</td>\n",
       "      <td>ND</td>\n",
       "      <td>ND</td>\n",
       "      <td>NaN</td>\n",
       "      <td>NaN</td>\n",
       "    </tr>\n",
       "  </tbody>\n",
       "</table>\n",
       "<p>5 rows × 21 columns</p>\n",
       "</div>"
      ],
      "text/plain": [
       "  UNIVERSE page_id                                   name  \\\n",
       "0       DC    1702             Richard Occult (New Earth)   \n",
       "1       DC  158200           Arthur Pendragon (New Earth)   \n",
       "2       DC  289378                   Bedivere (New Earth)   \n",
       "3       DC   11333  Franklin Delano Roosevelt (New Earth)   \n",
       "4       DC  342641                     Gareth (New Earth)   \n",
       "\n",
       "                                 urlslug               ID            ALIGN  \\\n",
       "0             Richard_Occult_(New_Earth)  Secret Identity               ND   \n",
       "1           Arthur_Pendragon_(New_Earth)  Public Identity  Good Characters   \n",
       "2                   Bedivere_(New_Earth)               ND               ND   \n",
       "3  Franklin_Delano_Roosevelt_(New_Earth)  Public Identity  Good Characters   \n",
       "4                     Gareth_(New_Earth)               ND               ND   \n",
       "\n",
       "  IS_AVENGER AVENGER_STATUS AVENGER_YEAR        EYES  ...              SEX  \\\n",
       "0         NO             ND           ND   Grey Eyes  ...  Male Characters   \n",
       "1         NO             ND           ND  Brown Eyes  ...  Male Characters   \n",
       "2         NO             ND           ND          ND  ...  Male Characters   \n",
       "3         NO             ND           ND          ND  ...  Male Characters   \n",
       "4         NO             ND           ND          ND  ...  Male Characters   \n",
       "\n",
       "                 SEXUALITY              ALIVE APPEARANCES FIRST_MONTH  \\\n",
       "0  Heterosexual Characters  Living Characters         125    October    \n",
       "1  Heterosexual Characters  Living Characters          41   February    \n",
       "2  Heterosexual Characters  Living Characters          ND   February    \n",
       "3  Heterosexual Characters  Living Characters          52      March    \n",
       "4  Heterosexual Characters  Living Characters           1   February    \n",
       "\n",
       "  FIRST_YEAR DECEASED RESURRECTED Unnamed: 19  Unnamed: 20  \n",
       "0       1935       ND          ND         NaN          NaN  \n",
       "1       1936       ND          ND         NaN          NaN  \n",
       "2       1936       ND          ND         NaN          NaN  \n",
       "3       1936       ND          ND         NaN          NaN  \n",
       "4       1936       ND          ND         NaN          NaN  \n",
       "\n",
       "[5 rows x 21 columns]"
      ]
     },
     "execution_count": 5,
     "metadata": {},
     "output_type": "execute_result"
    }
   ],
   "source": [
    "superheroes.head()"
   ]
  },
  {
   "cell_type": "markdown",
   "metadata": {},
   "source": [
    "### Challenge 1: Run the code in this section below to reveal the error messages. Can you spot the bugs? Use the Google form to note each of the problems you encountered and your potential solutions. \n",
    "### Fix the code for extra credit!"
   ]
  },
  {
   "cell_type": "code",
   "execution_count": 15,
   "metadata": {},
   "outputs": [
    {
     "name": "stdout",
     "output_type": "stream",
     "text": [
      "\n",
      "Total number of characters:23420\n"
     ]
    }
   ],
   "source": [
    "# print the total number of characters in the data\n",
    "\n",
    "print(\"\\nTotal number of characters:\" + str(len(superheroes)))"
   ]
  },
  {
   "cell_type": "markdown",
   "metadata": {},
   "source": [
    "### Challenge 2: Run the code in the section below to reveal the error messages. Can you spot the bugs? Use the Google form to note each of the problems you encountered and your potential solutions.\n",
    "\n",
    "### Fix the code for extra credit!¶"
   ]
  },
  {
   "cell_type": "code",
   "execution_count": 19,
   "metadata": {},
   "outputs": [
    {
     "name": "stdout",
     "output_type": "stream",
     "text": [
      "0                Richard Occult (New Earth) 1935\n",
      "9                        Merlin (New Earth) 1936\n",
      "7              Lady of the Lake (New Earth) 1936\n",
      "6                     Guinevere (New Earth) 1936\n",
      "5                        Gawain (New Earth) 1936\n",
      "8                      Lancelot (New Earth) 1936\n",
      "3     Franklin Delano Roosevelt (New Earth) 1936\n",
      "2                      Bedivere (New Earth) 1936\n",
      "1              Arthur Pendragon (New Earth) 1936\n",
      "4                        Gareth (New Earth) 1936\n",
      "10               Cyril Saunders (New Earth) 1937\n",
      "11                 Rose Psychic (New Earth) 1937\n",
      "12               Samuel Bradley (New Earth) 1937\n",
      "13                Samuel Morgan (New Earth) 1937\n",
      "20                   Robin Hood (New Earth) 1938\n",
      "23                     Wing How (New Earth) 1938\n",
      "22                         Tong (New Earth) 1938\n",
      "19                 Robert Daley (New Earth) 1938\n",
      "21                Scott Scanlon (New Earth) 1938\n",
      "17                    Lois Lane (New Earth) 1938\n",
      "16                   Lee Travis (New Earth) 1938\n",
      "dtype: object\n"
     ]
    }
   ],
   "source": [
    "# print the 20 newest heroes by name\n",
    "superheroes.sort_values(by=\"FIRST_YEAR\", ascending=True, inplace=True)\n",
    "\n",
    "newest_heroes = superheroes[\"name\"] + \" \" + superheroes[\"FIRST_YEAR\"]\n",
    "\n",
    "print(newest_heroes[0:21])"
   ]
  },
  {
   "cell_type": "markdown",
   "metadata": {},
   "source": [
    "### Challenge 3: Run the code in the section below to reveal the crosstab results. \n",
    "\n",
    "### What is the issue with the labeled crosstab results? (Hint, check the original labels by commenting out lines of code)\n",
    "\n",
    "### Fix the code for extra credit!"
   ]
  },
  {
   "cell_type": "code",
   "execution_count": 17,
   "metadata": {},
   "outputs": [
    {
     "data": {
      "text/html": [
       "<div>\n",
       "<style scoped>\n",
       "    .dataframe tbody tr th:only-of-type {\n",
       "        vertical-align: middle;\n",
       "    }\n",
       "\n",
       "    .dataframe tbody tr th {\n",
       "        vertical-align: top;\n",
       "    }\n",
       "\n",
       "    .dataframe thead th {\n",
       "        text-align: right;\n",
       "    }\n",
       "</style>\n",
       "<table border=\"1\" class=\"dataframe\">\n",
       "  <thead>\n",
       "    <tr style=\"text-align: right;\">\n",
       "      <th></th>\n",
       "      <th>Does not have red hair</th>\n",
       "      <th>Has red hair</th>\n",
       "    </tr>\n",
       "  </thead>\n",
       "  <tbody>\n",
       "    <tr>\n",
       "      <th>Does not have yellow eyes</th>\n",
       "      <td>22004</td>\n",
       "      <td>1073</td>\n",
       "    </tr>\n",
       "    <tr>\n",
       "      <th>Has yellow eyes</th>\n",
       "      <td>325</td>\n",
       "      <td>18</td>\n",
       "    </tr>\n",
       "  </tbody>\n",
       "</table>\n",
       "</div>"
      ],
      "text/plain": [
       "                           Does not have red hair  Has red hair\n",
       "Does not have yellow eyes                   22004          1073\n",
       "Has yellow eyes                               325            18"
      ]
     },
     "execution_count": 17,
     "metadata": {},
     "output_type": "execute_result"
    }
   ],
   "source": [
    "creepy_villain = pd.crosstab(index = superheroes[\"EYES\"] == \"Yellow Eyes\", columns = superheroes[\"HAIR\"] == \"Red Hair\")\n",
    "\n",
    "creepy_villain.columns = [\"Does not have red hair\", \"Has red hair\"]\n",
    "creepy_villain.index = [\"Does not have yellow eyes\", \"Has yellow eyes\"]\n",
    "creepy_villain"
   ]
  },
  {
   "cell_type": "markdown",
   "metadata": {},
   "source": [
    "### Challenge 4: Run the code in the section below to reveal the crosstab results. \n",
    "\n",
    "### The issue isn't about a bug but the reliability of the results The crosstab computation returns a lot of 0 and ND (no data) values both for hair color and for how the characters' align (good, bad, neutral or reformed criminal). Use the Google form to explain why this could be a problem in your data analysis and how you could overcome it in the code.\n",
    "\n",
    "### Fix the code for extra credit!"
   ]
  },
  {
   "cell_type": "code",
   "execution_count": null,
   "metadata": {},
   "outputs": [],
   "source": [
    "bad_hair = pd.crosstab(superheroes[\"HAIR\"], superheroes[\"ALIGN\"])\n",
    "\n",
    "\n",
    "print(bad_hair)"
   ]
  },
  {
   "cell_type": "markdown",
   "metadata": {},
   "source": [
    "### You're done! Please submit the Debug Challenge Google form before the end of class today."
   ]
  }
 ],
 "metadata": {
  "anaconda-cloud": {},
  "kernelspec": {
   "display_name": "Python 3",
   "language": "python",
   "name": "python3"
  },
  "language_info": {
   "codemirror_mode": {
    "name": "ipython",
    "version": 3
   },
   "file_extension": ".py",
   "mimetype": "text/x-python",
   "name": "python",
   "nbconvert_exporter": "python",
   "pygments_lexer": "ipython3",
   "version": "3.8.6"
  }
 },
 "nbformat": 4,
 "nbformat_minor": 4
}
