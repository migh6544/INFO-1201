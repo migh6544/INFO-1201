{
 "cells": [
  {
   "cell_type": "markdown",
   "metadata": {},
   "source": [
    "Debug Challenge 07.14.21 - Markdown"
   ]
  },
  {
   "cell_type": "markdown",
   "metadata": {},
   "source": [
    "This challenge is all about writing and debugging markdown.\n",
    "\n",
    "Comments will tell you what to do in each cell.\n",
    "\n",
    "Quotes drawn from this Medium post: https://medium.com/statuscode/ten-inspiring-programming-quotes-7c2fe1b2e79a"
   ]
  },
  {
   "cell_type": "markdown",
   "metadata": {
    "jupyter": {
     "outputs_hidden": true
    }
   },
   "source": [
    "# Make the first cell \"Debug Challenge...\" into an H1 (first header)."
   ]
  },
  {
   "cell_type": "code",
   "execution_count": null,
   "metadata": {
    "collapsed": true,
    "jupyter": {
     "outputs_hidden": true
    }
   },
   "outputs": [],
   "source": [
    "#Convert the following cell from Code into Markdown"
   ]
  },
  {
   "cell_type": "markdown",
   "metadata": {
    "jupyter": {
     "outputs_hidden": true
    }
   },
   "source": [
    "\"No one in the brief history of computing has ever written a piece of perfect software. It's unlikely that you'll be the first.\" - Andy Hunt"
   ]
  },
  {
   "cell_type": "markdown",
   "metadata": {},
   "source": [
    "#Make the words \"one month\" and \"two months\" emphasized (italicized)."
   ]
  },
  {
   "cell_type": "markdown",
   "metadata": {},
   "source": [
    "\"What one programmer can do in *one month*, two programmers can do in *two months*.\" - Fred Brooks"
   ]
  },
  {
   "cell_type": "code",
   "execution_count": 2,
   "metadata": {
    "collapsed": true,
    "jupyter": {
     "outputs_hidden": true
    }
   },
   "outputs": [],
   "source": [
    "#Make the words \"computer\", \"cities\", and \"ruins\" strongly emphasized (bolded)."
   ]
  },
  {
   "cell_type": "markdown",
   "metadata": {},
   "source": [
    "\"We build our **computer** (systems) the way we build our **cities**: over time, without a plan, on top of **ruins**.\" - Ellen Ullman"
   ]
  },
  {
   "cell_type": "code",
   "execution_count": null,
   "metadata": {
    "collapsed": true,
    "jupyter": {
     "outputs_hidden": true
    }
   },
   "outputs": [],
   "source": [
    "#Make \"Every great developer\" emphasized (italicized) and make \"great\" also strongly \"emphasized\" (bold)."
   ]
  },
  {
   "cell_type": "markdown",
   "metadata": {},
   "source": [
    "\"*Every **great** developer* you know got there by solving problems they were unqualified to solve until they actually did it.\" - Patrick McKenzie"
   ]
  },
  {
   "cell_type": "code",
   "execution_count": null,
   "metadata": {},
   "outputs": [],
   "source": [
    "#Let's add the link to a tweet containing this quote.\n",
    "#The link to add: https://twitter.com/CodeWisdom/status/837725068272742401?ref_src=twsrc%5Etfw%7Ctwcamp%5Etweetembed%7Ctwterm%5E837725068272742401&ref_url=https%3A%2F%2Fmedium.com%2Fmedia%2F9c2c3532431423344b91f31b8ad22869%3FpostId%3D7c2fe1b2e79a\n",
    "#Make just the quote into a link (including the quotation marks!)"
   ]
  },
  {
   "cell_type": "markdown",
   "metadata": {},
   "source": [
    "[“Without requirements or design, programming is the art of adding bugs to an empty text file.” - Louis Srygley](https://twitter.com/CodeWisdom/status/837725068272742401?ref_src=twsrc%5Etfw%7Ctwcamp%5Etweetembed%7Ctwterm%5E837725068272742401&ref_url=https%3A%2F%2Fmedium.com%2Fmedia%2F9c2c3532431423344b91f31b8ad22869%3FpostId%3D7c2fe1b2e79a)"
   ]
  },
  {
   "cell_type": "code",
   "execution_count": 4,
   "metadata": {
    "collapsed": true,
    "jupyter": {
     "outputs_hidden": true
    }
   },
   "outputs": [],
   "source": [
    "#Make these rules into an ordered list of rules"
   ]
  },
  {
   "cell_type": "markdown",
   "metadata": {},
   "source": [
    "\"Rules of Optimization:\n",
    "1. Don't do it.\n",
    "2. (for experts only): Don't do it yet. ” - Michael A. Jackson"
   ]
  },
  {
   "cell_type": "code",
   "execution_count": 6,
   "metadata": {
    "collapsed": true,
    "jupyter": {
     "outputs_hidden": true
    }
   },
   "outputs": [],
   "source": [
    "#Let's make this quote into a blockquote"
   ]
  },
  {
   "cell_type": "markdown",
   "metadata": {},
   "source": [
    "> As Oscar Goodson said, \"One of the best programming skills you can have is knowing when to walk away for awhile.\""
   ]
  }
 ],
 "metadata": {
  "anaconda-cloud": {},
  "kernelspec": {
   "display_name": "Python 3",
   "language": "python",
   "name": "python3"
  },
  "language_info": {
   "codemirror_mode": {
    "name": "ipython",
    "version": 3
   },
   "file_extension": ".py",
   "mimetype": "text/x-python",
   "name": "python",
   "nbconvert_exporter": "python",
   "pygments_lexer": "ipython3",
   "version": "3.8.6"
  }
 },
 "nbformat": 4,
 "nbformat_minor": 4
}
